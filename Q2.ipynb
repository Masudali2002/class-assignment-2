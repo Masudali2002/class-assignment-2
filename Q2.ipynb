{
 "cells": [
  {
   "cell_type": "code",
   "execution_count": 1,
   "id": "f3c247c5-79f9-4ed6-840d-22891e8988d5",
   "metadata": {},
   "outputs": [],
   "source": [
    "#Q2. Name the four pillars of OOPs."
   ]
  },
  {
   "cell_type": "code",
   "execution_count": 2,
   "id": "d932fe93-a86d-4719-a12d-21d423b838ec",
   "metadata": {},
   "outputs": [],
   "source": [
    "#ans...>The four pillar of the OOPs are polymorphism,encapsulation,inheritance,abstraction."
   ]
  },
  {
   "cell_type": "code",
   "execution_count": null,
   "id": "21298497-581b-4198-8c9c-2a9d0b55a06b",
   "metadata": {},
   "outputs": [],
   "source": []
  }
 ],
 "metadata": {
  "kernelspec": {
   "display_name": "Python 3 (ipykernel)",
   "language": "python",
   "name": "python3"
  },
  "language_info": {
   "codemirror_mode": {
    "name": "ipython",
    "version": 3
   },
   "file_extension": ".py",
   "mimetype": "text/x-python",
   "name": "python",
   "nbconvert_exporter": "python",
   "pygments_lexer": "ipython3",
   "version": "3.12.0"
  }
 },
 "nbformat": 4,
 "nbformat_minor": 5
}
