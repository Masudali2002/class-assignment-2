{
 "cells": [
  {
   "cell_type": "code",
   "execution_count": 1,
   "id": "454849bd-e848-41ef-a9ac-50a7171ef37d",
   "metadata": {},
   "outputs": [],
   "source": [
    "#Q1. Explain Class and Object with respect to Object-Oriented Programming. Give a suitable example."
   ]
  },
  {
   "cell_type": "code",
   "execution_count": 2,
   "id": "953026a0-b8e8-4cf8-a734-6428da2e6ccf",
   "metadata": {},
   "outputs": [],
   "source": [
    "#1...ans>In object-oriented programming class is the blue-print of object and object is defined as \n",
    "# group of data. Class is not physically exist but object is physically exist."
   ]
  },
  {
   "cell_type": "code",
   "execution_count": 4,
   "id": "a05b48da-642a-40ab-ac1e-46c44fa694cd",
   "metadata": {},
   "outputs": [],
   "source": [
    "class car:\n",
    "    def __init__(self,color):\n",
    "        self.color=color\n",
    "    def color(self):\n",
    "        return self.color\n",
    "        "
   ]
  },
  {
   "cell_type": "code",
   "execution_count": 5,
   "id": "bef68475-3b2c-4c6b-bab7-6fb58bc46e43",
   "metadata": {},
   "outputs": [],
   "source": [
    "m=car(\"red\")"
   ]
  },
  {
   "cell_type": "code",
   "execution_count": 7,
   "id": "b9b3f5ff-4c18-44bc-ae44-1cab3f6de87c",
   "metadata": {},
   "outputs": [
    {
     "data": {
      "text/plain": [
       "'red'"
      ]
     },
     "execution_count": 7,
     "metadata": {},
     "output_type": "execute_result"
    }
   ],
   "source": [
    "m.color"
   ]
  },
  {
   "cell_type": "code",
   "execution_count": 8,
   "id": "1df62a09-8daf-454c-af31-bb83c878f1d5",
   "metadata": {},
   "outputs": [],
   "source": [
    "#here car is class and m is object"
   ]
  },
  {
   "cell_type": "code",
   "execution_count": null,
   "id": "00444e7a-798e-48c0-8a8c-60558e409aba",
   "metadata": {},
   "outputs": [],
   "source": []
  }
 ],
 "metadata": {
  "kernelspec": {
   "display_name": "Python 3 (ipykernel)",
   "language": "python",
   "name": "python3"
  },
  "language_info": {
   "codemirror_mode": {
    "name": "ipython",
    "version": 3
   },
   "file_extension": ".py",
   "mimetype": "text/x-python",
   "name": "python",
   "nbconvert_exporter": "python",
   "pygments_lexer": "ipython3",
   "version": "3.12.0"
  }
 },
 "nbformat": 4,
 "nbformat_minor": 5
}
