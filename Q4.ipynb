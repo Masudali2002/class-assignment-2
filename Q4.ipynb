{
 "cells": [
  {
   "cell_type": "code",
   "execution_count": 1,
   "id": "62e2ef5a-a911-48b5-9c7d-00ec03f207a5",
   "metadata": {},
   "outputs": [],
   "source": [
    "#Q4. Why self is used in OOPs?"
   ]
  },
  {
   "cell_type": "code",
   "execution_count": 2,
   "id": "446288b8-f567-423b-af42-5672635e6b21",
   "metadata": {},
   "outputs": [],
   "source": [
    "#ans..>Self is not a reserve keyword, we use anything in the place of self.it is \n",
    "# used to represent the instance of the class."
   ]
  },
  {
   "cell_type": "code",
   "execution_count": null,
   "id": "de189489-165e-42cd-9d61-af63912a3eab",
   "metadata": {},
   "outputs": [],
   "source": []
  }
 ],
 "metadata": {
  "kernelspec": {
   "display_name": "Python 3 (ipykernel)",
   "language": "python",
   "name": "python3"
  },
  "language_info": {
   "codemirror_mode": {
    "name": "ipython",
    "version": 3
   },
   "file_extension": ".py",
   "mimetype": "text/x-python",
   "name": "python",
   "nbconvert_exporter": "python",
   "pygments_lexer": "ipython3",
   "version": "3.12.0"
  }
 },
 "nbformat": 4,
 "nbformat_minor": 5
}
