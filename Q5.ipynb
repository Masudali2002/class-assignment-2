{
 "cells": [
  {
   "cell_type": "code",
   "execution_count": 1,
   "id": "e3113ab1-c89c-420a-a85b-a070ba35da4e",
   "metadata": {},
   "outputs": [],
   "source": [
    "#Q5. What is inheritance? Give an example for each type of inheritance."
   ]
  },
  {
   "cell_type": "code",
   "execution_count": 2,
   "id": "2009505e-e7d6-48fc-b966-ca8dbb71b98b",
   "metadata": {},
   "outputs": [],
   "source": [
    "#ans...>Inheritance allows us to define a class that inherits all the methods and properties of another class."
   ]
  },
  {
   "cell_type": "code",
   "execution_count": 1,
   "id": "2960265b-ce98-4bcc-b701-dcf7e5be5ea7",
   "metadata": {},
   "outputs": [],
   "source": [
    "class one:\n",
    "    def fun():\n",
    "        return \"this is obeject of class1\""
   ]
  },
  {
   "cell_type": "code",
   "execution_count": 2,
   "id": "afa3e12c-e5a7-4b94-aba7-bebf5829d498",
   "metadata": {},
   "outputs": [],
   "source": [
    "class two:\n",
    "    def fun2():\n",
    "        return \"this is object of class class2\""
   ]
  },
  {
   "cell_type": "code",
   "execution_count": 3,
   "id": "0c798433-3d0d-41c2-8392-38db7b9ab8e9",
   "metadata": {},
   "outputs": [],
   "source": [
    "class three(one,two):\n",
    "    pass"
   ]
  },
  {
   "cell_type": "code",
   "execution_count": 4,
   "id": "b94ee41b-6498-40fc-a605-ca7b502b64f2",
   "metadata": {},
   "outputs": [],
   "source": [
    "m=three()"
   ]
  },
  {
   "cell_type": "code",
   "execution_count": 8,
   "id": "7ccc3a3b-9e68-4a75-a77d-095e495a81a4",
   "metadata": {},
   "outputs": [
    {
     "data": {
      "text/plain": [
       "<bound method one.fun of <__main__.three object at 0x0000026D230D4890>>"
      ]
     },
     "execution_count": 8,
     "metadata": {},
     "output_type": "execute_result"
    }
   ],
   "source": [
    "m.fun"
   ]
  },
  {
   "cell_type": "code",
   "execution_count": 11,
   "id": "84b956a7-5208-45da-98e8-197db6a84a0d",
   "metadata": {},
   "outputs": [],
   "source": [
    "#it is multulevel inherutance"
   ]
  },
  {
   "cell_type": "code",
   "execution_count": null,
   "id": "b34c43ad-8869-43dd-988e-a56224353cbb",
   "metadata": {},
   "outputs": [],
   "source": [
    "s"
   ]
  }
 ],
 "metadata": {
  "kernelspec": {
   "display_name": "Python 3 (ipykernel)",
   "language": "python",
   "name": "python3"
  },
  "language_info": {
   "codemirror_mode": {
    "name": "ipython",
    "version": 3
   },
   "file_extension": ".py",
   "mimetype": "text/x-python",
   "name": "python",
   "nbconvert_exporter": "python",
   "pygments_lexer": "ipython3",
   "version": "3.12.0"
  }
 },
 "nbformat": 4,
 "nbformat_minor": 5
}
