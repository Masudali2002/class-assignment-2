{
 "cells": [
  {
   "cell_type": "code",
   "execution_count": 1,
   "id": "287501e2-2eeb-4eb1-bb8f-e38a6b6bc36b",
   "metadata": {},
   "outputs": [],
   "source": [
    "#Q3. Explain why the __init__() function is used. Give a suitable example."
   ]
  },
  {
   "cell_type": "code",
   "execution_count": 2,
   "id": "79e68c59-b770-41a5-ae0f-5f058f2c086e",
   "metadata": {},
   "outputs": [],
   "source": [
    "#ans...>__init__() is basically a consturctor. It is used to pass the arguments in object class."
   ]
  },
  {
   "cell_type": "code",
   "execution_count": 3,
   "id": "22fc5244-fd24-4190-b3aa-069aaf558ca9",
   "metadata": {},
   "outputs": [],
   "source": [
    "class student:\n",
    "    def __init__(self,name):\n",
    "        self.name=name\n",
    "    "
   ]
  },
  {
   "cell_type": "code",
   "execution_count": 4,
   "id": "d8a7247d-adfc-4ced-bb9c-79e045236ed0",
   "metadata": {},
   "outputs": [],
   "source": [
    "m=student(\"masud\")"
   ]
  },
  {
   "cell_type": "code",
   "execution_count": null,
   "id": "3419a9f2-4ff5-4ef8-8fbb-9ef6424ed2b1",
   "metadata": {},
   "outputs": [],
   "source": []
  }
 ],
 "metadata": {
  "kernelspec": {
   "display_name": "Python 3 (ipykernel)",
   "language": "python",
   "name": "python3"
  },
  "language_info": {
   "codemirror_mode": {
    "name": "ipython",
    "version": 3
   },
   "file_extension": ".py",
   "mimetype": "text/x-python",
   "name": "python",
   "nbconvert_exporter": "python",
   "pygments_lexer": "ipython3",
   "version": "3.12.0"
  }
 },
 "nbformat": 4,
 "nbformat_minor": 5
}
